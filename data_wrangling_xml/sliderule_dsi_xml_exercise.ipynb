{
 "cells": [
  {
   "cell_type": "markdown",
   "metadata": {},
   "source": [
    "# XML example and exercise\n",
    "****\n",
    "+ study examples of accessing nodes in XML tree structure  \n",
    "+ work on exercise to be completed and submitted\n",
    "****\n",
    "+ reference: https://docs.python.org/2.7/library/xml.etree.elementtree.html\n",
    "+ data source: http://www.dbis.informatik.uni-goettingen.de/Mondial\n",
    "****"
   ]
  },
  {
   "cell_type": "markdown",
   "metadata": {},
   "source": [
    "****\n",
    "## XML exercise\n",
    "\n",
    "Using data in 'data/mondial_database.xml', the examples above, and refering to https://docs.python.org/2.7/library/xml.etree.elementtree.html, find\n",
    "\n",
    "1. 10 countries with the lowest infant mortality rates\n",
    "2. 10 cities with the largest population\n",
    "3. 10 ethnic groups with the largest overall populations (sum of best/latest estimates over all countries)\n",
    "4. name and country of a) longest river, b) largest lake and c) airport at highest elevation"
   ]
  },
  {
   "cell_type": "code",
   "execution_count": 1,
   "metadata": {
    "collapsed": true
   },
   "outputs": [],
   "source": [
    "from xml.etree import ElementTree as ET"
   ]
  },
  {
   "cell_type": "code",
   "execution_count": 2,
   "metadata": {
    "collapsed": true
   },
   "outputs": [],
   "source": [
    "document = ET.parse( './data/mondial_database.xml' )"
   ]
  },
  {
   "cell_type": "code",
   "execution_count": 3,
   "metadata": {
    "collapsed": true
   },
   "outputs": [],
   "source": [
    "infantMortalityDict = {}\n",
    "for element in document.iterfind('country'):\n",
    "    for child in element:\n",
    "        if(child.tag == 'infant_mortality'):\n",
    "            infantMortalityDict[element.find('name').text] = float(child.text)"
   ]
  },
  {
   "cell_type": "code",
   "execution_count": 4,
   "metadata": {
    "collapsed": false
   },
   "outputs": [
    {
     "data": {
      "text/plain": [
       "['Monaco',\n",
       " 'Japan',\n",
       " 'Norway',\n",
       " 'Bermuda',\n",
       " 'Singapore',\n",
       " 'Sweden',\n",
       " 'Czech Republic',\n",
       " 'Hong Kong',\n",
       " 'Macao',\n",
       " 'Iceland']"
      ]
     },
     "execution_count": 4,
     "metadata": {},
     "output_type": "execute_result"
    }
   ],
   "source": [
    "infantMortalityTuples = []\n",
    "for a in infantMortalityDict:\n",
    "    infantMortalityTuples.append((a,infantMortalityDict[a]))\n",
    "infantMortalityTuples.sort(key=lambda x: x[1])\n",
    "list(map(lambda x: x[0], infantMortalityTuples[0:10]))"
   ]
  },
  {
   "cell_type": "code",
   "execution_count": null,
   "metadata": {
    "collapsed": true
   },
   "outputs": [],
   "source": []
  },
  {
   "cell_type": "code",
   "execution_count": 5,
   "metadata": {
    "collapsed": false
   },
   "outputs": [],
   "source": [
    "cityPopulationDict = {}\n",
    "for country in document.iterfind('country'):\n",
    "    for city in country.iterfind('city'):\n",
    "        maxYear = 0\n",
    "        population = None\n",
    "        \n",
    "        for population in city.iterfind('population'):      \n",
    "            year = int(population.attrib['year'])\n",
    "            if (year > maxYear):\n",
    "                population = int(population.text)\n",
    "        if (population):\n",
    "            cityPopulationDict[city.find('name').text] = population\n",
    "    for province in country.iterfind('province'):\n",
    "        for city in province.iterfind('city'):\n",
    "            maxYear = 0\n",
    "            population = None\n",
    "\n",
    "            for population in city.iterfind('population'):      \n",
    "                year = int(population.attrib['year'])\n",
    "                if (year > maxYear):\n",
    "                    population = int(population.text)\n",
    "            if (population):\n",
    "                cityPopulationDict[city.find('name').text] = population\n",
    "        \n",
    "        "
   ]
  },
  {
   "cell_type": "code",
   "execution_count": 6,
   "metadata": {
    "collapsed": false
   },
   "outputs": [
    {
     "data": {
      "text/plain": [
       "['Shanghai',\n",
       " 'Istanbul',\n",
       " 'Mumbai',\n",
       " 'Moskva',\n",
       " 'Beijing',\n",
       " 'São Paulo',\n",
       " 'Tianjin',\n",
       " 'Guangzhou',\n",
       " 'Delhi',\n",
       " 'Shenzhen']"
      ]
     },
     "execution_count": 6,
     "metadata": {},
     "output_type": "execute_result"
    }
   ],
   "source": [
    "cityPopulationTuples = []\n",
    "for a in cityPopulationDict:\n",
    "    cityPopulationTuples.append((a,cityPopulationDict[a]))\n",
    "cityPopulationTuples.sort(key=lambda x: -x[1])\n",
    "list(map(lambda x: x[0], cityPopulationTuples[0:10]))"
   ]
  },
  {
   "cell_type": "code",
   "execution_count": null,
   "metadata": {
    "collapsed": true
   },
   "outputs": [],
   "source": []
  },
  {
   "cell_type": "code",
   "execution_count": 7,
   "metadata": {
    "collapsed": false
   },
   "outputs": [],
   "source": [
    "ethnicPopulationDict = {}\n",
    "for country in document.iterfind('country'):\n",
    "    populationValue = None\n",
    "    for population in country.iterfind('population'):      \n",
    "        year = int(population.attrib['year'])\n",
    "        if (year > maxYear):\n",
    "            populationValue = int(population.text)\n",
    "    if (populationValue):\n",
    "        for ethnicgroup in country.iterfind('ethnicgroup'):\n",
    "            ethnicPopulation = populationValue * float(ethnicgroup.attrib['percentage'])\n",
    "            if (ethnicgroup.text not in ethnicPopulationDict):\n",
    "                ethnicPopulationDict[ethnicgroup.text] = 0;\n",
    "            ethnicPopulationDict[ethnicgroup.text] = ethnicPopulationDict[ethnicgroup.text] + ethnicPopulation\n",
    "                      "
   ]
  },
  {
   "cell_type": "code",
   "execution_count": 8,
   "metadata": {
    "collapsed": false
   },
   "outputs": [
    {
     "data": {
      "text/plain": [
       "['Han Chinese',\n",
       " 'Indo-Aryan',\n",
       " 'European',\n",
       " 'African',\n",
       " 'Dravidian',\n",
       " 'Mestizo',\n",
       " 'Bengali',\n",
       " 'Russian',\n",
       " 'Japanese',\n",
       " 'Malay']"
      ]
     },
     "execution_count": 8,
     "metadata": {},
     "output_type": "execute_result"
    }
   ],
   "source": [
    "ethnicPopulationTuples = []\n",
    "for a in ethnicPopulationDict:\n",
    "    ethnicPopulationTuples.append((a,ethnicPopulationDict[a]))\n",
    "ethnicPopulationTuples.sort(key=lambda x: -x[1])\n",
    "list(map(lambda x: x[0], ethnicPopulationTuples[0:10]))"
   ]
  },
  {
   "cell_type": "code",
   "execution_count": null,
   "metadata": {
    "collapsed": true
   },
   "outputs": [],
   "source": []
  },
  {
   "cell_type": "code",
   "execution_count": 9,
   "metadata": {
    "collapsed": false
   },
   "outputs": [
    {
     "data": {
      "text/plain": [
       "[('Amazonas', 'CO BR PE'),\n",
       " ('Jangtse', 'CN'),\n",
       " ('Hwangho', 'CN'),\n",
       " ('Lena', 'R'),\n",
       " ('Zaire', 'RCB ZRE'),\n",
       " ('Mekong', 'CN LAO THA K VN'),\n",
       " ('Irtysch', 'R KAZ CN'),\n",
       " ('Niger', 'RMM RN WAN RG'),\n",
       " ('Missouri', 'USA'),\n",
       " ('Jenissej', 'R')]"
      ]
     },
     "execution_count": 9,
     "metadata": {},
     "output_type": "execute_result"
    }
   ],
   "source": [
    "riverTuples = []\n",
    "for element in document.iterfind('river'):\n",
    "    if (element.find('length') != None):\n",
    "        riverTuples.append((element.find('name').text, element.attrib[\"country\"], float(element.find('length').text)))\n",
    "riverTuples.sort(key=lambda x: -x[2])\n",
    "list(map(lambda x: (x[0], x[1]), riverTuples[0:10]))"
   ]
  },
  {
   "cell_type": "code",
   "execution_count": null,
   "metadata": {
    "collapsed": true
   },
   "outputs": [],
   "source": []
  },
  {
   "cell_type": "code",
   "execution_count": 10,
   "metadata": {
    "collapsed": false
   },
   "outputs": [
    {
     "data": {
      "text/plain": [
       "[('Caspian Sea', 'R AZ KAZ IR TM'),\n",
       " ('Lake Superior', 'CDN USA'),\n",
       " ('Lake Victoria', 'EAT EAK EAU'),\n",
       " ('Lake Huron', 'CDN USA'),\n",
       " ('Lake Michigan', 'USA'),\n",
       " ('Dead Sea', 'IL JOR WEST'),\n",
       " ('Lake Tanganjika', 'ZRE Z BI EAT'),\n",
       " ('Great Bear Lake', 'CDN'),\n",
       " ('Ozero Baikal', 'R'),\n",
       " ('Lake Malawi', 'MW MOC EAT')]"
      ]
     },
     "execution_count": 10,
     "metadata": {},
     "output_type": "execute_result"
    }
   ],
   "source": [
    "lakeTuples = []\n",
    "for element in document.iterfind('lake'):\n",
    "    if (element.find('area') != None):\n",
    "        lakeTuples.append((element.find('name').text, element.attrib[\"country\"], float(element.find('area').text)))\n",
    "lakeTuples.sort(key=lambda x: -x[2])\n",
    "list(map(lambda x: (x[0], x[1]), lakeTuples[0:10]))"
   ]
  },
  {
   "cell_type": "code",
   "execution_count": null,
   "metadata": {
    "collapsed": true
   },
   "outputs": [],
   "source": []
  },
  {
   "cell_type": "code",
   "execution_count": 11,
   "metadata": {
    "collapsed": false
   },
   "outputs": [
    {
     "data": {
      "text/plain": [
       "[('El Alto Intl', 'BOL'),\n",
       " ('Lhasa-Gonggar', 'CN'),\n",
       " ('Yushu Batang', 'CN'),\n",
       " ('Juliaca', 'PE'),\n",
       " ('Teniente Alejandro Velasco Astete Intl', 'PE'),\n",
       " ('Juana Azurduy De Padilla', 'BOL'),\n",
       " ('Mariscal Sucre Intl', 'EC'),\n",
       " ('Coronel Fap Alfredo Mendivil Duarte', 'PE'),\n",
       " ('Mayor General FAP Armando Revoredo Iglesias Airport', 'PE'),\n",
       " ('Licenciado Adolfo Lopez Mateos Intl', 'MEX')]"
      ]
     },
     "execution_count": 11,
     "metadata": {},
     "output_type": "execute_result"
    }
   ],
   "source": [
    "airportTuples = []\n",
    "for element in document.iterfind('airport'):\n",
    "    if (element.find('elevation') != None and element.find('elevation').text != None):\n",
    "        airportTuples.append((element.find('name').text, element.attrib[\"country\"], float(element.find('elevation').text)))\n",
    "airportTuples.sort(key=lambda x: -x[2])\n",
    "list(map(lambda x: (x[0], x[1]), airportTuples[0:10]))"
   ]
  },
  {
   "cell_type": "code",
   "execution_count": null,
   "metadata": {
    "collapsed": true
   },
   "outputs": [],
   "source": []
  },
  {
   "cell_type": "code",
   "execution_count": null,
   "metadata": {
    "collapsed": true
   },
   "outputs": [],
   "source": []
  },
  {
   "cell_type": "code",
   "execution_count": null,
   "metadata": {
    "collapsed": true
   },
   "outputs": [],
   "source": []
  },
  {
   "cell_type": "code",
   "execution_count": null,
   "metadata": {
    "collapsed": true
   },
   "outputs": [],
   "source": []
  },
  {
   "cell_type": "code",
   "execution_count": null,
   "metadata": {
    "collapsed": true
   },
   "outputs": [],
   "source": []
  },
  {
   "cell_type": "code",
   "execution_count": null,
   "metadata": {
    "collapsed": true
   },
   "outputs": [],
   "source": []
  }
 ],
 "metadata": {
  "kernelspec": {
   "display_name": "Python 3",
   "language": "python",
   "name": "python3"
  },
  "language_info": {
   "codemirror_mode": {
    "name": "ipython",
    "version": 3
   },
   "file_extension": ".py",
   "mimetype": "text/x-python",
   "name": "python",
   "nbconvert_exporter": "python",
   "pygments_lexer": "ipython3",
   "version": "3.5.0"
  }
 },
 "nbformat": 4,
 "nbformat_minor": 0
}
